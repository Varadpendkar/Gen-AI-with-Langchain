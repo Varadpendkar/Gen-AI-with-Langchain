{
 "cells": [
  {
   "cell_type": "markdown",
   "metadata": {},
   "source": [
    "## Variables in python\n"
   ]
  },
  {
   "cell_type": "code",
   "execution_count": 1,
   "metadata": {},
   "outputs": [],
   "source": [
    "# Declaring and assiging variables in python \n",
    "age = 32\n",
    "height =6\n",
    "name = \"Varad\"\n",
    "is_student = True"
   ]
  },
  {
   "cell_type": "code",
   "execution_count": 5,
   "metadata": {},
   "outputs": [
    {
     "name": "stdout",
     "output_type": "stream",
     "text": [
      "age: 32\n",
      "height: 6\n",
      "Name: Varad\n",
      "is student : True\n"
     ]
    }
   ],
   "source": [
    "print(\"age:\", age)\n",
    "print(\"height:\",height)\n",
    "print(\"Name:\",name)\n",
    "print(\"is student :\",is_student)"
   ]
  },
  {
   "cell_type": "code",
   "execution_count": 6,
   "metadata": {},
   "outputs": [],
   "source": [
    "##Naming conventions \n",
    "##Variable names should be descriptive \n",
    "##They must start with letter or '_'and contains letters , numbers and underscores\n",
    "##variables are caes sensitives \n",
    "\n",
    "##Valid variable names \n",
    "first_name = \"Varad\"\n",
    "last_name =\"Pendkar\""
   ]
  },
  {
   "cell_type": "code",
   "execution_count": 7,
   "metadata": {},
   "outputs": [
    {
     "name": "stdout",
     "output_type": "stream",
     "text": [
      "<class 'bool'>\n"
     ]
    }
   ],
   "source": [
    "#understanding variable types \n",
    "#python is a dynamically typed lanaguage,type of the variable is determined at the runtime \n",
    "age = 25\n",
    "height=6.1\n",
    "name = \"Varad\"\n",
    "Is_student= True\n",
    "print(type(Is_student))\n"
   ]
  },
  {
   "cell_type": "code",
   "execution_count": 8,
   "metadata": {},
   "outputs": [
    {
     "data": {
      "text/plain": [
       "float"
      ]
     },
     "execution_count": 8,
     "metadata": {},
     "output_type": "execute_result"
    }
   ],
   "source": [
    "type(height)"
   ]
  },
  {
   "cell_type": "code",
   "execution_count": 10,
   "metadata": {},
   "outputs": [
    {
     "name": "stdout",
     "output_type": "stream",
     "text": [
      "25\n",
      "<class 'str'>\n"
     ]
    }
   ],
   "source": [
    "##typecasting \n",
    "age_str = str(age)\n",
    "print(age_str)\n",
    "print(type(age_str))"
   ]
  },
  {
   "cell_type": "code",
   "execution_count": 11,
   "metadata": {},
   "outputs": [
    {
     "name": "stdout",
     "output_type": "stream",
     "text": [
      "Sum: 15.0\n",
      "Substraction: 5.0\n",
      "Multiplication: 50.0\n",
      "Division :  2.0\n"
     ]
    }
   ],
   "source": [
    "#simple calculator\n",
    "num1 =float(input(\"Enter your number1::\"))\n",
    "num2 =float(input(\"Enter your number2:\"))\n",
    "\n",
    "sum = num1 + num2\n",
    "substraction = num1 - num2\n",
    "multiplication = num1 *num2\n",
    "division = num1/num2\n",
    "print(\"Sum:\",sum)\n",
    "print(\"Substraction:\",substraction)\n",
    "print(\"Multiplication:\",multiplication)\n",
    "print(\"Division : \",division)\n"
   ]
  },
  {
   "cell_type": "code",
   "execution_count": null,
   "metadata": {},
   "outputs": [],
   "source": []
  }
 ],
 "metadata": {
  "kernelspec": {
   "display_name": "Python 3",
   "language": "python",
   "name": "python3"
  },
  "language_info": {
   "codemirror_mode": {
    "name": "ipython",
    "version": 3
   },
   "file_extension": ".py",
   "mimetype": "text/x-python",
   "name": "python",
   "nbconvert_exporter": "python",
   "pygments_lexer": "ipython3",
   "version": "3.13.0"
  }
 },
 "nbformat": 4,
 "nbformat_minor": 2
}
