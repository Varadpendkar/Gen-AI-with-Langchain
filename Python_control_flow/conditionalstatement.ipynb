{
 "cells": [
  {
   "cell_type": "markdown",
   "metadata": {},
   "source": [
    "Conditional statements\n"
   ]
  },
  {
   "cell_type": "code",
   "execution_count": 2,
   "metadata": {},
   "outputs": [
    {
     "name": "stdout",
     "output_type": "stream",
     "text": [
      "Hey you are allowed to vote in the elections\n"
     ]
    }
   ],
   "source": [
    "#If Statement\n",
    "age =20\n",
    "if age>=18:\n",
    "  print(\"Hey you are allowed to vote in the elections\")"
   ]
  },
  {
   "cell_type": "code",
   "execution_count": null,
   "metadata": {},
   "outputs": [],
   "source": [
    "#else \n",
    "## The else state ment executes a block of code if the condition in the if statement is false \n",
    "age =16\n",
    "if age>=18:\n",
    "  print(\"You are elgible to vote \")\n",
    "else :\n",
    "  print(\"You are a minor\")\n",
    "  "
   ]
  },
  {
   "cell_type": "code",
   "execution_count": 6,
   "metadata": {},
   "outputs": [
    {
     "name": "stdout",
     "output_type": "stream",
     "text": [
      "Hey you are teenager\n"
     ]
    }
   ],
   "source": [
    "#elif statements \n",
    "#The elif statement allows you to check multiple conditions.It stands for the \"else if\"\n",
    "age = 17 \n",
    "if age<13 :\n",
    "  print(\"Hey you are a child\")\n",
    "elif age<18 :\n",
    "  print(\"Hey you are teenager\")\n",
    "else:\n",
    "  print(\"You are an adult\")"
   ]
  },
  {
   "cell_type": "code",
   "execution_count": 10,
   "metadata": {},
   "outputs": [
    {
     "name": "stdout",
     "output_type": "stream",
     "text": [
      "The number is positive\n",
      "The number is even\n"
     ]
    }
   ],
   "source": [
    "#Nested conditional statement\n",
    "##You can place if ,elif,or else statements inside another if,elif , or else statement to create nested conditional statements.\n",
    "###number even,odd,negative\n",
    "num = int(input(\"Enter you number :\"))\n",
    "\n",
    "if num>=0:\n",
    "  print(\"The number is positive\")\n",
    "  if num %2 ==0 :\n",
    "    print(\"The number is even\")\n",
    "  else:\n",
    "    print(\"The number is odd\")\n",
    "else:\n",
    "  print(\"The number is zero or negative\")\n",
    "  "
   ]
  },
  {
   "cell_type": "code",
   "execution_count": 15,
   "metadata": {},
   "outputs": [
    {
     "name": "stdout",
     "output_type": "stream",
     "text": [
      "2024 is a leap year\n"
     ]
    }
   ],
   "source": [
    "## Practical examples\n",
    "## determine if a year is a leap year or not\n",
    "year =int(input(\"Enter you year:\"))\n",
    "\n",
    "if year>=0:\n",
    "  if year%4==0:\n",
    "    if year%100==0:\n",
    "      if year%400==0:\n",
    "        print(year,\"is a leap year\")\n",
    "      else:\n",
    "        print(year,\"is not a leap year\")\n",
    "    else:\n",
    "      print(year,\"is a leap year\")\n",
    "  else:\n",
    "    print(f\"The given {year} year is not a leap year\")\n",
    "else:\n",
    "  print(\"Enter a valid year\")"
   ]
  },
  {
   "cell_type": "code",
   "execution_count": 22,
   "metadata": {},
   "outputs": [
    {
     "name": "stdout",
     "output_type": "stream",
     "text": [
      "Please enter vaid numbers\n"
     ]
    }
   ],
   "source": [
    "#simple calcultor using the if else statements\n",
    "num1  = int(input(\"Enter a number:\"))\n",
    "num2 = int(input(\"Enter a number :\"))\n",
    "operation = input(\"What kind of operation would you like to do(+,-,*,/,//,%,**):\")\n",
    "if  num1 and num2 >0 :\n",
    "  if operation == '+' :\n",
    "    print(f\"The sum of the {num1},{num2} is\",num1 + num2)\n",
    "  elif operation== '-':\n",
    "    print(f\"The substraction of {num1},{num2}is\",num1 - num2)\n",
    "  elif operation == '*' :\n",
    "    print(f\"The multiplication of {num1},{num2}is\",num1*num2)\n",
    "  elif operation == '/':\n",
    "    if num2 != 0:\n",
    "      print(f\"The division of {num1},{num2}is\",num/num2)\n",
    "    else :\n",
    "      print(\"Error! Division by zero\")\n",
    "  elif operation =='//':\n",
    "    if num2 != 0:\n",
    "      print(f\"The floor division of {num1},{num2}is\",num1//num2)\n",
    "    else :\n",
    "      print(\"Error! Division by zero\")\n",
    "  elif operation == '%':\n",
    "    print(f\"The modulus of {num1},{num2} is\",num1%num2)\n",
    "  elif operation == '**':\n",
    "    print(f\"The exponent of {num1},{num2} is \",num1**num2)\n",
    "else : \n",
    "  print(\"Please enter vaid numbers\")"
   ]
  },
  {
   "cell_type": "code",
   "execution_count": null,
   "metadata": {},
   "outputs": [
    {
     "name": "stdout",
     "output_type": "stream",
     "text": [
      "The ticket price for you is $5\n"
     ]
    }
   ],
   "source": [
    "##Determining the ticket price based on age and whether the person is a student\n",
    "age = int(input(\"Enter you age:\"))\n",
    "is_student =input(\"Are you a student? Yes or No:\")\n",
    "if age<=10 :\n",
    "  if is_student == 'Yes':\n",
    "    print(\"The ticket price for you is $5\")\n",
    "  else :\n",
    "    print(\"The ticket price for you is $10\")\n",
    "elif age<=18 :\n",
    "  if is_student == 'Yes':\n",
    "    print(\"The ticket price for you is $10\")\n",
    "  else :\n",
    "    print(\"The ticket price for you is $15\")\n",
    "elif age>18 and age<=60 :\n",
    "  if is_student == 'Yes' :\n",
    "    print(\"The ticket price for you is $15\")\n",
    "  else :\n",
    "    print(\"The ticket price for you is $20\")\n",
    "elif age >60:\n",
    "  if is_student =='Yes':\n",
    "    print(\"The ticket price for you is $20\")\n",
    "  else :\n",
    "    print(\"The ticket price for you is $25\")\n",
    "else:\n",
    "  print(\"Please enter a valid age \")"
   ]
  }
 ],
 "metadata": {
  "kernelspec": {
   "display_name": "Python 3",
   "language": "python",
   "name": "python3"
  },
  "language_info": {
   "codemirror_mode": {
    "name": "ipython",
    "version": 3
   },
   "file_extension": ".py",
   "mimetype": "text/x-python",
   "name": "python",
   "nbconvert_exporter": "python",
   "pygments_lexer": "ipython3",
   "version": "3.13.0"
  }
 },
 "nbformat": 4,
 "nbformat_minor": 2
}
